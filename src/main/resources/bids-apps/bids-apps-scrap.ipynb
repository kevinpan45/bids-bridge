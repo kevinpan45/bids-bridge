{
 "cells": [
  {
   "cell_type": "code",
   "execution_count": null,
   "metadata": {
    "vscode": {
     "languageId": "shellscript"
    }
   },
   "outputs": [],
   "source": [
    "pip install requests pandas -i https://pypi.tuna.tsinghua.edu.cn/simple"
   ]
  },
  {
   "cell_type": "code",
   "execution_count": null,
   "metadata": {},
   "outputs": [],
   "source": [
    "import requests\n",
    "import json\n",
    "import pandas as pd\n",
    "import time\n",
    "\n",
    "with open('bids-apps.json', 'r') as file:\n",
    "    data = json.load(file)\n",
    "\n",
    "apps = data['apps']\n",
    "apps_df = pd.DataFrame(apps)\n",
    "apps_df[['description', 'status', 'gh', 'dh', 'ds_type', 'datatype']].head()"
   ]
  },
  {
   "cell_type": "code",
   "execution_count": null,
   "metadata": {},
   "outputs": [],
   "source": [
    "# Request to docker hub to get and update latest updated image tag to each app\n",
    "for app in apps:\n",
    "    dh_image = app['dh']\n",
    "    response = requests.get(f'https://hub.docker.com/v2/repositories/{dh_image}/tags')\n",
    "    if response.status_code == 200:\n",
    "        tags = response.json()['results']\n",
    "        last_updated = None\n",
    "        # order tags by last_updated and get the latest one\n",
    "        for tag in tags:\n",
    "            if last_updated is None or tag['last_updated'] > last_updated:\n",
    "                last_updated = tag['last_updated']\n",
    "                latest_tag = tag['name']\n",
    "        app['latest_version'] = latest_tag\n",
    "    else:\n",
    "        app['latest_version'] = 'Error fetching tags'\n",
    "    # Sleep to avoid rate limiting of docker hub\n",
    "    time.sleep(0.5)\n",
    "\n",
    "# Save the updated json file\n",
    "with open('bids-apps.json', 'w') as file:\n",
    "    json.dump(data, file, indent=4)"
   ]
  }
 ],
 "metadata": {
  "kernelspec": {
   "display_name": ".venv",
   "language": "python",
   "name": "python3"
  },
  "language_info": {
   "codemirror_mode": {
    "name": "ipython",
    "version": 3
   },
   "file_extension": ".py",
   "mimetype": "text/x-python",
   "name": "python",
   "nbconvert_exporter": "python",
   "pygments_lexer": "ipython3",
   "version": "3.12.3"
  }
 },
 "nbformat": 4,
 "nbformat_minor": 2
}
