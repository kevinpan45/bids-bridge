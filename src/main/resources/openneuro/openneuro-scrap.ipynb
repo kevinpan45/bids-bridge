{
 "cells": [
  {
   "cell_type": "code",
   "execution_count": null,
   "metadata": {
    "vscode": {
     "languageId": "shellscript"
    }
   },
   "outputs": [],
   "source": [
    "pip install requests"
   ]
  },
  {
   "cell_type": "code",
   "execution_count": 1,
   "metadata": {},
   "outputs": [],
   "source": [
    "import time\n",
    "import requests\n",
    "import json\n",
    "from datetime import datetime\n",
    "\n",
    "# 定义请求的URL\n",
    "url = \"https://openneuro.org/crn/graphql\"\n",
    "\n",
    "# 定义请求头\n",
    "headers = {\n",
    "    \"accept\": \"*/*\",\n",
    "    \"accept-language\": \"zh-CN,zh;q=0.9,en;q=0.8,en-GB;q=0.7,en-US;q=0.6\",\n",
    "    \"baggage\": \"sentry-environment=production,sentry-release=openneuro-app%404.29.9,sentry-public_key=b8eb90670f3386206200aa89e0d91076,sentry-trace_id=bca171fee411469d8b471a1079ffd52e,sentry-sample_rate=1,sentry-sampled=true\",\n",
    "    \"content-type\": \"application/json\",\n",
    "    \"cookie\": \"_ga=GA1.2.606643952.1727407142; _ga_MJNMY6D3FX=GS1.1.1731396714.2.1.1731397800.60.0.0\",\n",
    "    \"origin\": \"https://openneuro.org\",\n",
    "    \"priority\": \"u=1, i\",\n",
    "    \"referer\": \"https://openneuro.org/search/modality/mri?query=%7B%22modality_selected%22%3A%22MRI%22%7D\",\n",
    "    \"sec-ch-ua\": '\"Microsoft Edge\";v=\"131\", \"Chromium\";v=\"131\", \"Not_A Brand\";v=\"24\"',\n",
    "    \"sec-ch-ua-mobile\": \"?0\",\n",
    "    \"sec-ch-ua-platform\": '\"Windows\"',\n",
    "    \"sec-fetch-dest\": \"empty\",\n",
    "    \"sec-fetch-mode\": \"cors\",\n",
    "    \"sec-fetch-site\": \"same-origin\",\n",
    "    \"sentry-trace\": \"cfd7319aaa21431d844c3b9831e11dbd-9a5da24d2800d7b7-1\",\n",
    "    \"user-agent\": \"Mozilla/5.0 (Windows NT 10.0; Win64; x64) AppleWebKit/537.36 (KHTML, like Gecko) Chrome/131.0.0.0 Safari/537.36 Edg/131.0.0.0\"\n",
    "}\n",
    "\n",
    "# 定义初始游标\n",
    "cursor = \"WzAsImRzMDA1NTk1Il0=\"\n",
    "\n",
    "# 创建结果存储JSON文件\n",
    "filename = f\"result_{datetime.now().strftime('%Y%m%d_%H%M%S')}.txt\"\n",
    "result_file = open(filename, \"w\")\n",
    "\n",
    "while True:\n",
    "\n",
    "    # 定义查询字符串\n",
    "    query = \"query advancedSearchDatasets($query: JSON!, $cursor: String, $allDatasets: Boolean, $datasetType: String, $datasetStatus: String, $sortBy: JSON) {\\n  datasets: advancedSearch(\\n    query: $query\\n    allDatasets: $allDatasets\\n    datasetType: $datasetType\\n    datasetStatus: $datasetStatus\\n    sortBy: $sortBy\\n    first: 25\\n    after: $cursor\\n  ) {\\n    edges {\\n      id\\n      node {\\n        id\\n        created\\n        uploader {\\n          id\\n          name\\n          orcid\\n        }\\n        public\\n        metadata {\\n          ages\\n        }\\n        latestSnapshot {\\n          size\\n          tag\\n          summary {\\n            modalities\\n            secondaryModalities\\n            sessions\\n            subjects\\n            subjectMetadata {\\n              participantId\\n              age\\n              sex\\n              group\\n            }\\n            tasks\\n            size\\n            totalFiles\\n            dataProcessed\\n            pet {\\n              BodyPart\\n              ScannerManufacturer\\n              ScannerManufacturersModelName\\n              TracerName\\n              TracerRadionuclide\\n            }\\n          }\\n          description {\\n            Name\\n            Authors\\n          }\\n        }\\n        analytics {\\n          views\\n          downloads\\n        }\\n        snapshots {\\n          id\\n          created\\n          tag\\n        }\\n      }\\n    }\\n    pageInfo {\\n      startCursor\\n      endCursor\\n      hasPreviousPage\\n      hasNextPage\\n      count\\n    }\\n  }\\n}\"\n",
    "\n",
    "    # 定义查询变量\n",
    "    variables = {\n",
    "        \"query\": {\n",
    "            \"bool\": {\n",
    "                \"filter\": [{\"match\": {\"latestSnapshot.summary.modalities\": {\"query\": \"MRI\"}}}]\n",
    "            }\n",
    "        },\n",
    "        \"sortBy\": None,\n",
    "        \"allDatasets\": False,\n",
    "        \"datasetType\": \"All Public\",\n",
    "        \"datasetStatus\": None,\n",
    "        \"cursor\": cursor\n",
    "    }\n",
    "\n",
    "    # 构建请求数据\n",
    "    data = {\n",
    "        \"operationName\": \"advancedSearchDatasets\",\n",
    "        \"variables\": variables,\n",
    "        \"query\": query\n",
    "    }\n",
    "\n",
    "    # 发送POST请求\n",
    "    response = requests.post(url, headers=headers, json=data)\n",
    "\n",
    "    # 解析响应数据\n",
    "    if response.status_code == 200:\n",
    "        result = response.json()\n",
    "        # 处理数据，这里只是简单打印\n",
    "        for edge in result[\"data\"][\"datasets\"][\"edges\"]:\n",
    "            # append json line to file\n",
    "            result_file.write(json.dumps(edge) + \"\\n\")\n",
    "\n",
    "        # 获取下一页游标\n",
    "        cursor = result[\"data\"][\"datasets\"][\"pageInfo\"][\"endCursor\"]\n",
    "        if not result[\"data\"][\"datasets\"][\"pageInfo\"][\"hasNextPage\"]:\n",
    "            break\n",
    "    else:\n",
    "        print(f\"请求失败，状态码: {response.status_code}\")\n",
    "        break"
   ]
  }
 ],
 "metadata": {
  "kernelspec": {
   "display_name": "Python 3",
   "language": "python",
   "name": "python3"
  },
  "language_info": {
   "codemirror_mode": {
    "name": "ipython",
    "version": 3
   },
   "file_extension": ".py",
   "mimetype": "text/x-python",
   "name": "python",
   "nbconvert_exporter": "python",
   "pygments_lexer": "ipython3",
   "version": "3.12.3"
  }
 },
 "nbformat": 4,
 "nbformat_minor": 2
}
